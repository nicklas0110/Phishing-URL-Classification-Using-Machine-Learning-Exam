{
 "cells": [
  {
   "cell_type": "markdown",
   "metadata": {},
   "source": [
    "Imports"
   ]
  },
  {
   "cell_type": "code",
   "execution_count": 98,
   "metadata": {},
   "outputs": [],
   "source": [
    "import pandas as pd\n",
    "from sklearn.model_selection import train_test_split, GridSearchCV\n",
    "from sklearn.ensemble import RandomForestClassifier\n",
    "from sklearn.neural_network import MLPClassifier\n",
    "from sklearn.metrics import classification_report, confusion_matrix\n",
    "from sklearn.preprocessing import StandardScaler, LabelEncoder\n",
    "import numpy as np"
   ]
  },
  {
   "cell_type": "markdown",
   "metadata": {},
   "source": [
    "# Load the dataset"
   ]
  },
  {
   "cell_type": "code",
   "execution_count": 99,
   "metadata": {},
   "outputs": [],
   "source": [
    "data = pd.read_csv(\"PhiUSIIL_Phishing_URL_Dataset.csv\")"
   ]
  },
  {
   "cell_type": "markdown",
   "metadata": {},
   "source": [
    "# Data Preprocessing\n",
    "Drop irrelevant columns (e.g., 'FILENAME', 'URL', 'Domain', 'Title', etc.)"
   ]
  },
  {
   "cell_type": "code",
   "execution_count": 100,
   "metadata": {},
   "outputs": [],
   "source": [
    "columns_to_drop = ['FILENAME', 'URL', 'Domain', 'TLD', 'Title']\n",
    "data_cleaned = data.drop(columns=columns_to_drop, axis=1)"
   ]
  },
  {
   "cell_type": "markdown",
   "metadata": {},
   "source": [
    "Encode categorical variables if any"
   ]
  },
  {
   "cell_type": "code",
   "execution_count": 101,
   "metadata": {},
   "outputs": [],
   "source": [
    "label_encoder = LabelEncoder()\n",
    "data_cleaned['IsDomainIP'] = label_encoder.fit_transform(data_cleaned['IsDomainIP'])"
   ]
  },
  {
   "cell_type": "markdown",
   "metadata": {},
   "source": [
    "Separate features and target"
   ]
  },
  {
   "cell_type": "code",
   "execution_count": 102,
   "metadata": {},
   "outputs": [],
   "source": [
    "X = data_cleaned.drop('label', axis=1)\n",
    "y = data_cleaned['label']"
   ]
  },
  {
   "cell_type": "markdown",
   "metadata": {},
   "source": [
    "Standardize numerical features"
   ]
  },
  {
   "cell_type": "code",
   "execution_count": 103,
   "metadata": {},
   "outputs": [],
   "source": [
    "scaler = StandardScaler()\n",
    "X_scaled = scaler.fit_transform(X)"
   ]
  },
  {
   "cell_type": "markdown",
   "metadata": {},
   "source": [
    "Split data into training and testing sets"
   ]
  },
  {
   "cell_type": "code",
   "execution_count": 104,
   "metadata": {},
   "outputs": [],
   "source": [
    "X_train, X_test, y_train, y_test = train_test_split(X_scaled, y, test_size=0.2, random_state=42)"
   ]
  },
  {
   "cell_type": "markdown",
   "metadata": {},
   "source": [
    "# Train and Evaluate Models 1\n",
    "Model 1: Random Forest"
   ]
  },
  {
   "cell_type": "code",
   "execution_count": 105,
   "metadata": {},
   "outputs": [
    {
     "name": "stdout",
     "output_type": "stream",
     "text": [
      "Random Forest Classification Report:\n",
      "               precision    recall  f1-score   support\n",
      "\n",
      "           0       1.00      1.00      1.00     20124\n",
      "           1       1.00      1.00      1.00     27035\n",
      "\n",
      "    accuracy                           1.00     47159\n",
      "   macro avg       1.00      1.00      1.00     47159\n",
      "weighted avg       1.00      1.00      1.00     47159\n",
      "\n"
     ]
    }
   ],
   "source": [
    "rf_model = RandomForestClassifier(\n",
    "    n_estimators=100, \n",
    "    max_depth=None, \n",
    "    min_samples_split=2, \n",
    "    min_samples_leaf=1, \n",
    "    random_state=42\n",
    ")\n",
    "rf_model.fit(X_train, y_train)\n",
    "rf_predictions = rf_model.predict(X_test)\n",
    "print(\"Random Forest Classification Report:\\n\", classification_report(y_test, rf_predictions))"
   ]
  },
  {
   "cell_type": "markdown",
   "metadata": {},
   "source": [
    "Fine-tuning of Random Forest with GridSearchCV which was used to find the best parameters.\n",
    "(Commented out to speed up process)"
   ]
  },
  {
   "cell_type": "code",
   "execution_count": 106,
   "metadata": {},
   "outputs": [
    {
     "data": {
      "text/plain": [
       "'\\nrf_param_grid = {\\n    \\'n_estimators\\': [50, 100, 200],\\n    \\'max_depth\\': [None, 10, 20],\\n    \\'min_samples_split\\': [2, 5],\\n    \\'min_samples_leaf\\': [1, 2]\\n}\\nrf_grid_search = GridSearchCV(estimator=rf_model, param_grid=rf_param_grid, cv=5, scoring=\\'accuracy\\', verbose=2)\\nrf_grid_search.fit(X_train, y_train)\\nprint(\"Best Random Forest Parameters:\", rf_grid_search.best_params_)\\nprint(\"Best Random Forest Cross-Validation Accuracy:\", rf_grid_search.best_score_)\\n'"
      ]
     },
     "execution_count": 106,
     "metadata": {},
     "output_type": "execute_result"
    }
   ],
   "source": [
    "\"\"\"\n",
    "rf_param_grid = {\n",
    "    'n_estimators': [50, 100, 200],\n",
    "    'max_depth': [None, 10, 20],\n",
    "    'min_samples_split': [2, 5],\n",
    "    'min_samples_leaf': [1, 2]\n",
    "}\n",
    "rf_grid_search = GridSearchCV(estimator=rf_model, param_grid=rf_param_grid, cv=5, scoring='accuracy', verbose=2)\n",
    "rf_grid_search.fit(X_train, y_train)\n",
    "print(\"Best Random Forest Parameters:\", rf_grid_search.best_params_)\n",
    "print(\"Best Random Forest Cross-Validation Accuracy:\", rf_grid_search.best_score_)\n",
    "\"\"\""
   ]
  },
  {
   "cell_type": "markdown",
   "metadata": {},
   "source": [
    "# Train and Evaluate Models 2\n",
    "Model 2: Multilayer Perceptron"
   ]
  },
  {
   "cell_type": "code",
   "execution_count": 107,
   "metadata": {},
   "outputs": [
    {
     "name": "stdout",
     "output_type": "stream",
     "text": [
      "MLP Classification Report:\n",
      "               precision    recall  f1-score   support\n",
      "\n",
      "           0       1.00      1.00      1.00     20124\n",
      "           1       1.00      1.00      1.00     27035\n",
      "\n",
      "    accuracy                           1.00     47159\n",
      "   macro avg       1.00      1.00      1.00     47159\n",
      "weighted avg       1.00      1.00      1.00     47159\n",
      "\n"
     ]
    }
   ],
   "source": [
    "mlp_model = MLPClassifier(\n",
    "    hidden_layer_sizes=(50, 50),\n",
    "    activation='relu',\n",
    "    alpha=0.001,\n",
    "    learning_rate_init=0.01,\n",
    "    max_iter=300,\n",
    "    random_state=42\n",
    ")\n",
    "mlp_model.fit(X_train, y_train)\n",
    "mlp_predictions = mlp_model.predict(X_test)\n",
    "print(\"MLP Classification Report:\\n\", classification_report(y_test, mlp_predictions))"
   ]
  },
  {
   "cell_type": "markdown",
   "metadata": {},
   "source": [
    "Fine-tuning of MLP with GridSearchCV which was used to find the best parameters\n",
    "(Commented out to speed up process)"
   ]
  },
  {
   "cell_type": "code",
   "execution_count": 108,
   "metadata": {},
   "outputs": [
    {
     "data": {
      "text/plain": [
       "'\\nmlp_param_grid = {\\n    \\'hidden_layer_sizes\\': [(100,), (50, 50), (30, 30, 30)],\\n    \\'activation\\': [\\'relu\\', \\'tanh\\'],\\n    \\'alpha\\': [0.0001, 0.001],\\n    \\'learning_rate_init\\': [0.001, 0.01]\\n}\\nmlp_grid_search = GridSearchCV(estimator=mlp_model, param_grid=mlp_param_grid, cv=5, scoring=\\'accuracy\\', verbose=2)\\nmlp_grid_search.fit(X_train, y_train)\\nprint(\"Best MLP Parameters:\", mlp_grid_search.best_params_)\\nprint(\"Best MLP Cross-Validation Accuracy:\", mlp_grid_search.best_score_)\\n'"
      ]
     },
     "execution_count": 108,
     "metadata": {},
     "output_type": "execute_result"
    }
   ],
   "source": [
    "\"\"\"\n",
    "mlp_param_grid = {\n",
    "    'hidden_layer_sizes': [(100,), (50, 50), (30, 30, 30)],\n",
    "    'activation': ['relu', 'tanh'],\n",
    "    'alpha': [0.0001, 0.001],\n",
    "    'learning_rate_init': [0.001, 0.01]\n",
    "}\n",
    "mlp_grid_search = GridSearchCV(estimator=mlp_model, param_grid=mlp_param_grid, cv=5, scoring='accuracy', verbose=2)\n",
    "mlp_grid_search.fit(X_train, y_train)\n",
    "print(\"Best MLP Parameters:\", mlp_grid_search.best_params_)\n",
    "print(\"Best MLP Cross-Validation Accuracy:\", mlp_grid_search.best_score_)\n",
    "\"\"\""
   ]
  },
  {
   "cell_type": "markdown",
   "metadata": {},
   "source": [
    "# Comparison and Insights\n",
    "Output confusion matrices for detailed comparison\n"
   ]
  },
  {
   "cell_type": "code",
   "execution_count": 109,
   "metadata": {},
   "outputs": [
    {
     "name": "stdout",
     "output_type": "stream",
     "text": [
      "Random Forest Confusion Matrix:\n",
      " [[20124     0]\n",
      " [    0 27035]]\n",
      "MLP Confusion Matrix:\n",
      " [[20118     6]\n",
      " [    0 27035]]\n",
      "Random Forest Fine-Tuned Cross-Validation Accuracy: 1.0\n",
      "MLP Fine-Tuned Cross-Validation Accuracy: 0.9999416866064677\n"
     ]
    }
   ],
   "source": [
    "print(\"Random Forest Confusion Matrix:\\n\", confusion_matrix(y_test, rf_predictions))\n",
    "print(\"MLP Confusion Matrix:\\n\", confusion_matrix(y_test, mlp_predictions))\n",
    "print(\"Random Forest Fine-Tuned Cross-Validation Accuracy:\", rf_grid_search.best_score_)\n",
    "print(\"MLP Fine-Tuned Cross-Validation Accuracy:\", mlp_grid_search.best_score_)"
   ]
  }
 ],
 "metadata": {
  "kernelspec": {
   "display_name": "base",
   "language": "python",
   "name": "python3"
  },
  "language_info": {
   "codemirror_mode": {
    "name": "ipython",
    "version": 3
   },
   "file_extension": ".py",
   "mimetype": "text/x-python",
   "name": "python",
   "nbconvert_exporter": "python",
   "pygments_lexer": "ipython3",
   "version": "3.12.4"
  }
 },
 "nbformat": 4,
 "nbformat_minor": 2
}
